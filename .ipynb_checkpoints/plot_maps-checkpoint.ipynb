{
 "cells": [
  {
   "cell_type": "markdown",
   "metadata": {},
   "source": [
    "# COVID-19 Analysis: A Deeper Dive into the Stats\n",
    "## ( + easy interactive figures with plot.ly) \n",
    "\n",
    "3/9/20\n",
    "\n",
    "According to the \"Coronavirus COVID-19 Global Cases by Johns Hopkins CSSE\" dashboard, as of right now, there are a total of 113584 confirmed cases, 3996 deaths, and 62496 recovered. From the media reports, it feels like outbreaks are happening at an exponential rate. However, hearing these numbers being thrown everywhere and used to both support or refute the need to panic, I decided to dive deeper into the numbers myself. How reliable are these reports? What do they really say about the threat of the virus? I don't know...\n",
    "   "
   ]
  },
  {
   "cell_type": "raw",
   "metadata": {},
   "source": [
    "<html><head>\n",
    "\n",
    "\n",
    "<!-- Load require.js. Delete this if your page already loads require.js -->\n",
    "<script src=\"https://cdnjs.cloudflare.com/ajax/libs/require.js/2.3.4/require.min.js\" integrity=\"sha256-Ae2Vz/4ePdIu6ZyI/5ZGsYnb+m0JlOmKPjt6XZ9JJkA=\" crossorigin=\"anonymous\"></script>\n",
    "<script src=\"https://unpkg.com/@jupyter-widgets/html-manager@*/dist/embed-amd.js\" crossorigin=\"anonymous\"></script>\n",
    "<script type=\"application/vnd.jupyter.widget-state+json\">\n",
    "{\n",
    "    \"version_major\": 2,\n",
    "    \"version_minor\": 0,\n",
    "    \"state\": {}\n",
    "}\n",
    "</script>\n",
    "</head>\n",
    "<body>\n",
    "\n",
    "\n",
    "</body>\n",
    "</html>\n",
    "\n"
   ]
  },
  {
   "cell_type": "markdown",
   "metadata": {},
   "source": [
    "Some initial notes/thoughts/findings from browsing the internet:\n",
    "    - Confirmed cases include presumptive cases\n",
    "    - Confirmed cases are laboratory-confirmed using PCR \n",
    "        - (sidenote: with what experience I've had with QT-PCR, results can be finicky and may vary significantly if proper mixing and sampling isn't done) \n",
    "        - According to the WHO daily situation reports, a confirmed case is \"A person with laboratory confirmation of COVID-19 infection, irrespective of clinical signs and symptoms.\"\n",
    "        - There is no single protocol.\n",
    "            - Following the link to the laboratory testing page, there are several different protocols coming from several different countries including the US, China, Thailand, etc. \n",
    "            - The primers/probe combinations used for different protocols are different. The targets are different... \n",
    "        - Recovered patients who have consecutive negative test results test positive after an additional quarentine period?! [\"Positive RT-PCR Test Results in Patients Recovered From COVID-19\"](https://jamanetwork.com/journals/jama/fullarticle/2762452)\n",
    "<a href=\"url\" target=\"_blank\">hyperlinked words</a>"
   ]
  },
  {
   "cell_type": "code",
   "execution_count": 1,
   "metadata": {
    "pycharm": {
     "is_executing": false
    }
   },
   "outputs": [],
   "source": [
    "import numpy as np\n",
    "import pandas as pd\n",
    "import scipy as sp\n",
    "\n",
    "import plotly.graph_objects as go \n",
    "import plotly.figure_factory as ff\n",
    "import plotly.express as px\n",
    "# import plotly.offline as py\n",
    "# py.init_notebook_mode(connected=True)\n",
    "\n",
    "\n",
    "pd.set_option(\"display.min_rows\", 15)\n",
    "pd.set_option(\"display.max_rows\", 101)\n",
    "pd.set_option(\"display.max_columns\", 101)"
   ]
  },
  {
   "cell_type": "code",
   "execution_count": 2,
   "metadata": {},
   "outputs": [],
   "source": [
    "import plotly.io as pio  # offline plotting\n",
    "pio.renderers\n",
    "pio.renderers.default = 'notebook'\n",
    "%load_ext autoreload\n",
    "%autoreload 2"
   ]
  },
  {
   "cell_type": "code",
   "execution_count": 3,
   "metadata": {
    "pycharm": {
     "is_executing": false,
     "name": "#%%\n"
    }
   },
   "outputs": [
    {
     "data": {
      "text/plain": [
       "\"\\n# reload all changed modules before executing a new line\\n%load_ext autoreload\\n%autoreload 2\\n\\n# save figures as static images\\nfig = go.FigureWidget(data=go.Bar(y=[2, 3, 1]))\\nfig.write_image('figure.png')\\n\""
      ]
     },
     "execution_count": 3,
     "metadata": {},
     "output_type": "execute_result"
    }
   ],
   "source": [
    "\"\"\"\n",
    "# reload all changed modules before executing a new line\n",
    "%load_ext autoreload\n",
    "%autoreload 2\n",
    "\n",
    "# save figures as static images\n",
    "fig = go.FigureWidget(data=go.Bar(y=[2, 3, 1]))\n",
    "fig.write_image('figure.png')\n",
    "\"\"\""
   ]
  },
  {
   "cell_type": "markdown",
   "metadata": {
    "pycharm": {
     "is_executing": false,
     "name": "#%%\n"
    }
   },
   "source": [
    "#### Mapping out the Deaths\n",
    "\n",
    "Out of all the stats, I would say the number of deaths can be \"trusted\" most (ie if someone is said to have died from the virus, it is highly probable that they had been infected).\n"
   ]
  },
  {
   "cell_type": "code",
   "execution_count": 4,
   "metadata": {
    "pycharm": {
     "is_executing": false,
     "name": "#%%\n"
    }
   },
   "outputs": [],
   "source": [
    "df = pd.read_csv('csse_covid_19_data/csse_covid_19_time_series/time_series_19-covid-Deaths.csv')\n",
    "today=df.columns[-1]"
   ]
  },
  {
   "cell_type": "code",
   "execution_count": 5,
   "metadata": {
    "pycharm": {
     "is_executing": false
    }
   },
   "outputs": [
    {
     "name": "stdout",
     "output_type": "stream",
     "text": [
      "total deaths as of 3/12/20 : 4720 \n"
     ]
    }
   ],
   "source": [
    "total_deaths=df[today].sum()\n",
    "print(\"total deaths as of {} : {} \".format(df.columns[-1],total_deaths))"
   ]
  },
  {
   "cell_type": "code",
   "execution_count": 6,
   "metadata": {
    "pycharm": {
     "is_executing": false
    }
   },
   "outputs": [
    {
     "ename": "NameError",
     "evalue": "name 'states' is not defined",
     "output_type": "error",
     "traceback": [
      "\u001b[0;31m---------------------------------------------------------------------------\u001b[0m",
      "\u001b[0;31mNameError\u001b[0m                                 Traceback (most recent call last)",
      "\u001b[0;32m<ipython-input-6-be57bd3b8b04>\u001b[0m in \u001b[0;36m<module>\u001b[0;34m\u001b[0m\n\u001b[1;32m      5\u001b[0m     \u001b[0mmonotonic\u001b[0m\u001b[0;34m=\u001b[0m\u001b[0mdft\u001b[0m\u001b[0;34m[\u001b[0m\u001b[0mcol\u001b[0m\u001b[0;34m]\u001b[0m\u001b[0;34m.\u001b[0m\u001b[0mis_monotonic_increasing\u001b[0m\u001b[0;34m\u001b[0m\u001b[0m\n\u001b[1;32m      6\u001b[0m     \u001b[0;32mif\u001b[0m \u001b[0mmonotonic\u001b[0m\u001b[0;34m==\u001b[0m\u001b[0;32mFalse\u001b[0m\u001b[0;34m:\u001b[0m\u001b[0;34m\u001b[0m\u001b[0m\n\u001b[0;32m----> 7\u001b[0;31m         \u001b[0mprint\u001b[0m\u001b[0;34m(\u001b[0m\u001b[0mstates\u001b[0m\u001b[0;34m[\u001b[0m\u001b[0mint\u001b[0m\u001b[0;34m(\u001b[0m\u001b[0mcol\u001b[0m\u001b[0;34m)\u001b[0m\u001b[0;34m]\u001b[0m\u001b[0;34m,\u001b[0m  \u001b[0;34m\": INCONSISTANT\"\u001b[0m\u001b[0;34m)\u001b[0m\u001b[0;34m\u001b[0m\u001b[0m\n\u001b[0m\u001b[1;32m      8\u001b[0m         \u001b[0mnot_monotonic\u001b[0m\u001b[0;34m.\u001b[0m\u001b[0mappend\u001b[0m\u001b[0;34m(\u001b[0m\u001b[0;34m[\u001b[0m\u001b[0mint\u001b[0m\u001b[0;34m(\u001b[0m\u001b[0mcol\u001b[0m\u001b[0;34m)\u001b[0m\u001b[0;34m]\u001b[0m\u001b[0;34m)\u001b[0m\u001b[0;34m\u001b[0m\u001b[0m\n\u001b[1;32m      9\u001b[0m \u001b[0mprint\u001b[0m\u001b[0;34m(\u001b[0m\u001b[0;34m\"Inconsistancies: {}\"\u001b[0m\u001b[0;34m.\u001b[0m\u001b[0mformat\u001b[0m\u001b[0;34m(\u001b[0m\u001b[0mlen\u001b[0m\u001b[0;34m(\u001b[0m\u001b[0mnot_monotonic\u001b[0m\u001b[0;34m)\u001b[0m\u001b[0;34m)\u001b[0m\u001b[0;34m)\u001b[0m\u001b[0;34m\u001b[0m\u001b[0m\n",
      "\u001b[0;31mNameError\u001b[0m: name 'states' is not defined"
     ]
    }
   ],
   "source": [
    "# Check that deaths are only increasing\n",
    "not_monotonic=[]\n",
    "dft=df.T[4:]\n",
    "for col in dft.columns:\n",
    "    monotonic=dft[col].is_monotonic_increasing\n",
    "    if monotonic==False:\n",
    "        print(states[int(col)],  \": INCONSISTANT\")\n",
    "        not_monotonic.append([int(col)])\n",
    "print(\"Inconsistancies: {}\".format(len(not_monotonic)))\n",
    "\n",
    "# fill in countries\n",
    "df['Country/Region']=df['Country/Region'].fillna(method=\"ffill\")\n",
    "df['Province/State']=df['Province/State'].fillna(value=df['Country/Region'])\n"
   ]
  },
  {
   "cell_type": "code",
   "execution_count": null,
   "metadata": {},
   "outputs": [],
   "source": [
    "locations=df[df.columns[:4]].reset_index()\n",
    "locations.head()\n",
    "\n"
   ]
  },
  {
   "cell_type": "code",
   "execution_count": null,
   "metadata": {},
   "outputs": [],
   "source": [
    "daily_changes=df[df.columns[4:-2]].diff(axis=1)\n",
    "daily_changes['sum diff']=daily_changes.sum(axis=1)\n",
    "daily_changes=daily_changes.reset_index().merge(locations, left_on='index', right_on='index')\n",
    "daily_changes=daily_changes[daily_changes['sum diff']>0]\n",
    "print(daily_changes.head())"
   ]
  },
  {
   "cell_type": "code",
   "execution_count": null,
   "metadata": {
    "pycharm": {
     "is_executing": false
    }
   },
   "outputs": [],
   "source": [
    "# df['bin_lat']=pd.cut(df['Lat'], bins=18)\n",
    "# df['bin_long']=pd.cut(df['Long'], bins=18)\n",
    "df['bin_lat'],blat=pd.cut(df['Lat'], bins=np.linspace(-180, 180, 12), precision=0,retbins=True)\n",
    "df['bin_long'],blong=pd.cut(df['Long'], bins=np.linspace(-180, 180, 12),precision=0,retbins=True)\n",
    "\n",
    "df.head()"
   ]
  },
  {
   "cell_type": "code",
   "execution_count": null,
   "metadata": {
    "pycharm": {
     "is_executing": false
    }
   },
   "outputs": [],
   "source": [
    "#centers=[int(np.average([blat[i],blat[i-1]])) for i in np.arange(1,18)]"
   ]
  },
  {
   "cell_type": "code",
   "execution_count": null,
   "metadata": {
    "pycharm": {
     "is_executing": false
    }
   },
   "outputs": [],
   "source": [
    "initial=df.groupby(['bin_long','bin_lat'])['3/8/20'].sum().sort_values(ascending=False).dropna().reset_index() #.fillna(0)\n",
    "print(initial.head(20))\n",
    "\n",
    "initial_total=df['3/8/20'].sum()\n",
    "print('total deaths as of 3/8/20 (start of analysis): ', initial_total)"
   ]
  },
  {
   "cell_type": "code",
   "execution_count": null,
   "metadata": {
    "pycharm": {
     "is_executing": false
    }
   },
   "outputs": [],
   "source": [
    "# today=df.columns[-3]\n",
    "\n",
    "latest=df.groupby(['bin_lat','bin_long'])[today].sum().sort_values(ascending=False).dropna().reset_index() #.fillna(0)\n",
    "print(latest.head())\n",
    "print(latest.tail())\n",
    "\n",
    "print('\\n\\nRemoving 0s')\n",
    "latest=latest[latest[today]>0]\n",
    "print(latest.head())\n",
    "print(latest.tail())"
   ]
  },
  {
   "cell_type": "code",
   "execution_count": null,
   "metadata": {
    "pycharm": {
     "is_executing": false
    }
   },
   "outputs": [],
   "source": [
    "\n",
    "countries=list(df.groupby('Country/Region').groups.keys())\n",
    "print(countries)\n"
   ]
  },
  {
   "cell_type": "code",
   "execution_count": null,
   "metadata": {
    "pycharm": {
     "is_executing": false
    }
   },
   "outputs": [],
   "source": [
    "# Group cumulative stats by lat/long coordinates since the number of deaths by province/state is sparse\n",
    "\n",
    "latest['long']=latest['bin_long'].map({i:i.mid for i in latest['bin_long']})\n",
    "\n",
    "latest['lat']=latest['bin_lat'].map({i:i.mid for i in latest['bin_lat']})\n",
    "\n",
    "print(latest)\n",
    "max_country=df[df[today]==df[today].max()]['Country/Region'].values[0]\n",
    "max_province=df.iloc[df[df[today]==df[today].max()]['Country/Region'].index]['Province/State'].values[0]\n",
    "print('\\n Maximum death toll: {} in {}, {}\\n'.format(df[today].max(),max_province, max_country))\n",
    "total_deaths=df[today].sum()\n",
    "print('Total deaths: ', total_deaths)"
   ]
  },
  {
   "cell_type": "code",
   "execution_count": null,
   "metadata": {
    "pycharm": {
     "is_executing": false
    }
   },
   "outputs": [],
   "source": [
    "states=df['Province/State'].values"
   ]
  },
  {
   "cell_type": "code",
   "execution_count": null,
   "metadata": {
    "pycharm": {
     "is_executing": false
    }
   },
   "outputs": [],
   "source": [
    "# Global density plot of Deaths\n",
    "latest['scaled_deaths']=np.log(latest[today])\n",
    "\n",
    "fig = px.density_mapbox(latest, lat='lat', lon='long', z='scaled_deaths', title=\"Map of Death Counts\",  hover_name=today ,hover_data=[\"scaled_deaths\",today], radius=25, height=500,\n",
    "                        center=dict(lat=30, lon=110), zoom=1,\n",
    "                        mapbox_style=\"carto-positron\")\n",
    "fig"
   ]
  },
  {
   "cell_type": "code",
   "execution_count": null,
   "metadata": {
    "pycharm": {
     "is_executing": false
    }
   },
   "outputs": [],
   "source": [
    "# fig_mod = go.Figure(fig)\n",
    "\n",
    "# max_deaths=max(latest['scaled_deaths'])\n",
    "# fig_mod.update_layout(hovertext='today')\n",
    "# fig_mod.show()"
   ]
  },
  {
   "cell_type": "code",
   "execution_count": null,
   "metadata": {
    "pycharm": {
     "is_executing": false
    }
   },
   "outputs": [],
   "source": [
    "# #scatter\n",
    "# import math\n",
    "# hover_text = []\n",
    "# bubble_size = []\n",
    "\n",
    "# for index, row in df.iterrows():\n",
    "#     hover_text.append(('Country/Region: {country}<br>'+\n",
    "#                       'Date: {date}<br>'+\n",
    "#                       'Number of Deaths: {death}<br>').format(country=df[\"Country/Region\"],\n",
    "#                                             date=today,\n",
    "#                                             death=row[today]))\n",
    "#     bubble_size.append(math.sqrt(row[today]))\n",
    "\n",
    "# df['text'] = hover_text\n",
    "# df['size'] = bubble_size\n",
    "# sizeref = 2.*max(df['size'])/(100**2)\n",
    "\n",
    "print(\"Scatter Plot of Countries/Regions where Deaths>0 as of {}\".format(today))\n",
    "# fig_scat = px.scatter_mapbox(df, lat=\"Lat\", lon=\"Long\", hover_name=\"Country/Region\" ,hover_data=[\"Long\",\"Lat\", today], color_discrete_sequence=[\"fuchsia\"], zoom=1, height=300)\n",
    "fig_scat = px.scatter_mapbox(df[df[today]>0], lat=\"Lat\", lon=\"Long\", hover_name=\"Country/Region\" ,hover_data=[\"Long\",\"Lat\", 'Province/State',today],color_discrete_sequence=[\"fuchsia\"],zoom=1, height=600)\n",
    "fig_scat.update_layout(mapbox_style=\"open-street-map\")\n",
    "fig_scat  #.show()\n",
    "\n",
    "# fig_mod = go.Figure(fig_scat)\n",
    "# fig_mod.update_layout(hovertext='today')\n"
   ]
  },
  {
   "cell_type": "markdown",
   "metadata": {},
   "source": [
    "#### Alternative Mapbox Styles (raster tiles)\n",
    "- maps that do not require an API token: \n",
    "    - `mapbox_style`=`\"open-street-map\"`, `\"carto-positron\"`, `\"carto-darkmatter\"`, `\"stamen-terrain\"`, `\"stamen-toner\"`, or `\"stamen-watercolor\" `\n",
    "    - Base Tiles from the USGS: \n",
    "    ```\n",
    "    fig.update_layout(\n",
    "        mapbox_style=\"white-bg\",\n",
    "        mapbox_layers=[\n",
    "            {\n",
    "                \"below\": 'traces',\n",
    "                \"sourcetype\": \"raster\",\n",
    "                \"source\": [\n",
    "                    \"https://basemap.nationalmap.gov/arcgis/rest/services/USGSImageryOnly/MapServer/tile/{z}/{y}/{x}\"\n",
    "                ]\n",
    "            }\n",
    "          ])```\n",
    "- maps that require a signup or token: \"basic\", \"streets\", \"outdoors\", \"light\", \"dark\", \"satellite\", or \"satellite-streets\"\n",
    "    - Base Tiles from the USGS, radar overlay from Environment Canada: no token needed:\n",
    "    ``` \n",
    "    fig.update_layout(\n",
    "        mapbox_style=\"white-bg\",\n",
    "        mapbox_layers=[\n",
    "            {\n",
    "                \"below\": 'traces',\n",
    "                \"sourcetype\": \"raster\",\n",
    "                \"source\": [\n",
    "                    \"https://basemap.nationalmap.gov/arcgis/rest/services/USGSImageryOnly/MapServer/tile/{z}/{y}/{x}\"\n",
    "                ]\n",
    "            },\n",
    "            {\n",
    "                \"sourcetype\": \"raster\",\n",
    "                \"source\": [\"https://geo.weather.gc.ca/geomet/?\"\n",
    "                           \"SERVICE=WMS&VERSION=1.3.0&REQUEST=GetMap&BBOX={bbox-epsg-3857}&CRS=EPSG:3857\"\n",
    "                           \"&WIDTH=1000&HEIGHT=1000&LAYERS=RADAR_1KM_RDBR&TILED=true&FORMAT=image/png\"],\n",
    "            }\n",
    "          ]) ```\n",
    "    - to provide token, set `layout.mapbox.access_token` (or, if using Plotly Express, via the `px.set_mapbox_access_token()` configuration function)\n",
    "- \n",
    "\n",
    "##### Generally, if your layout.mapbox.style does not use Mapbox service data, you do not need to register for a Mapbox account.\n",
    "\n"
   ]
  },
  {
   "cell_type": "code",
   "execution_count": null,
   "metadata": {
    "pycharm": {
     "is_executing": false
    }
   },
   "outputs": [],
   "source": [
    "fig.add_trace(fig_scat.data[0])\n",
    "\n",
    "# fig.write_html(\"mapbox_scatter-density_plot_deaths.html\")\n",
    "\n",
    "\n",
    "fig\n",
    "\n",
    "# uncomment to save figure\n",
    "#fig_scat.write_html(\"mapbox_scatter_plot_deaths.html\")\n"
   ]
  },
  {
   "cell_type": "code",
   "execution_count": null,
   "metadata": {},
   "outputs": [],
   "source": [
    "# png = go.FigureWidget(data=fig)\n",
    "# png.write_image('mapbox_scatter_plot_deaths.png')"
   ]
  },
  {
   "cell_type": "code",
   "execution_count": null,
   "metadata": {
    "pycharm": {
     "is_executing": false
    }
   },
   "outputs": [],
   "source": [
    "#compare to confirmed\n",
    "\n",
    "dfc = pd.read_csv('csse_covid_19_data/csse_covid_19_time_series/time_series_19-covid-Confirmed.csv')\n",
    "dfc['Country/Region']=dfc['Country/Region'].fillna(method=\"ffill\")\n",
    "# Check that deaths are only increasing\n",
    "not_monotonic=[]\n",
    "dfct=dfc.T[4:]\n",
    "for col in dfct.columns:\n",
    "    monotonic=dft[col].is_monotonic_increasing\n",
    "    if monotonic==False:\n",
    "        print(states[int(col)],  \": INCONSISTANT\")\n",
    "        not_monotonic.append([int(col)])\n",
    "print(\"Inconsistancies: {}\".format(len(not_monotonic)))\n",
    "\n"
   ]
  },
  {
   "cell_type": "code",
   "execution_count": null,
   "metadata": {
    "pycharm": {
     "is_executing": false
    },
    "scrolled": true
   },
   "outputs": [],
   "source": [
    "figc = px.density_mapbox(dfc, lat='Lat', lon='Long', z=today, radius=50,\n",
    "                        center=dict(lat=30, lon=110), zoom=1,\n",
    "                        mapbox_style=\"carto-positron\")\n",
    "figc"
   ]
  },
  {
   "cell_type": "code",
   "execution_count": null,
   "metadata": {},
   "outputs": [],
   "source": []
  },
  {
   "cell_type": "code",
   "execution_count": null,
   "metadata": {},
   "outputs": [],
   "source": [
    "print(\"Scatter Plot of Confirmed Cases as of {}\".format('3/8/20'))\n",
    "# fig_scat = px.scatter_mapbox(df, lat=\"Lat\", lon=\"Long\", hover_name=\"Country/Region\" ,hover_data=[\"Long\",\"Lat\", today], color_discrete_sequence=[\"fuchsia\"], zoom=1, height=300)\n",
    "ifigc_scat = px.scatter_mapbox(dfc[dfc['3/8/20']>0], lat=\"Lat\", lon=\"Long\", hover_name=\"Country/Region\" ,hover_data=[\"Long\",\"Lat\", 'Province/State','3/8/20'],color_discrete_sequence=[\"fuchsia\"],zoom=1, height=600)\n",
    "ifigc_scat.update_layout(mapbox_style=\"open-street-map\")\n",
    "ifigc_scat"
   ]
  },
  {
   "cell_type": "code",
   "execution_count": null,
   "metadata": {},
   "outputs": [],
   "source": [
    "print(\"Scatter Plot of Confirmed Cases as of {}\".format(today))\n",
    "# fig_scat = px.scatter_mapbox(df, lat=\"Lat\", lon=\"Long\", hover_name=\"Country/Region\" ,hover_data=[\"Long\",\"Lat\", today], color_discrete_sequence=[\"fuchsia\"], zoom=1, height=300)\n",
    "figc_scat = px.scatter_mapbox(dfc[dfc[today]>0], lat=\"Lat\", lon=\"Long\", hover_name=\"Country/Region\" ,hover_data=['Province/State',today],color_discrete_sequence=[\"fuchsia\"],zoom=1, height=600)\n",
    "figc_scat.update_layout(mapbox_style=\"open-street-map\")\n",
    "figc_scat\n",
    "\n"
   ]
  },
  {
   "cell_type": "code",
   "execution_count": null,
   "metadata": {
    "pycharm": {
     "is_executing": false
    }
   },
   "outputs": [],
   "source": [
    "figc.add_trace(ifigc_scat.data[0])\n",
    "# figc.write_html(\"mapbox_scatter-density_plot_confirmed.html\")\n",
    "figc\n"
   ]
  },
  {
   "cell_type": "code",
   "execution_count": null,
   "metadata": {
    "pycharm": {
     "is_executing": false
    }
   },
   "outputs": [],
   "source": [
    "#troubleshooting \n",
    "#print(vars(figc))\n",
    "print(figc.layout.coloraxis)"
   ]
  },
  {
   "cell_type": "markdown",
   "metadata": {
    "pycharm": {
     "is_executing": false
    }
   },
   "source": [
    "#### Exporting as images\n",
    "To export the figure/graph as an image, you must have orca installed. The official guide recommends using conda with the command:\n",
    "\n",
    "`$ conda install -c plotly plotly-orca`\n",
    "\n",
    "But I had better luck using the npm install: \n",
    "\n",
    "`$ npm install -g electron@6.1.4 orca`"
   ]
  },
  {
   "cell_type": "code",
   "execution_count": null,
   "metadata": {},
   "outputs": [],
   "source": [
    "# set default export options (otherwise my figures were saved zoomed in and cropped) \n",
    "\n",
    "pio.orca.config.default_format=\"png\"    # \"png\", \"jpeg\", \"webp\", \"svg\", \"pdf\", or \"eps\"\n",
    "pio.orca.config.default_scale=1\n",
    "pio.orca.config.default_height=800\n",
    "pio.orca.config.default_width=1200\n",
    "print(pio.orca.config)\n",
    "\n",
    "# save default size\n",
    "pio.orca.config.save()"
   ]
  },
  {
   "cell_type": "code",
   "execution_count": null,
   "metadata": {},
   "outputs": [],
   "source": [
    "# Export as image\n",
    "# pio.write_image(figc, file='mapbox_scatter-density_plot_confirmed.png', format='png')"
   ]
  },
  {
   "cell_type": "code",
   "execution_count": null,
   "metadata": {},
   "outputs": [],
   "source": []
  }
 ],
 "metadata": {
  "kernelspec": {
   "display_name": "covid-19-kernel",
   "language": "python",
   "name": "covid-19-kernel"
  },
  "language_info": {
   "codemirror_mode": {
    "name": "ipython",
    "version": 3
   },
   "file_extension": ".py",
   "mimetype": "text/x-python",
   "name": "python",
   "nbconvert_exporter": "python",
   "pygments_lexer": "ipython3",
   "version": "3.6.5"
  },
  "pycharm": {
   "stem_cell": {
    "cell_type": "raw",
    "metadata": {
     "collapsed": false
    },
    "source": []
   }
  }
 },
 "nbformat": 4,
 "nbformat_minor": 1
}
